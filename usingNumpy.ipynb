{
 "cells": [
  {
   "cell_type": "code",
   "execution_count": 1,
   "metadata": {},
   "outputs": [],
   "source": [
    "import numpy as np"
   ]
  },
  {
   "cell_type": "code",
   "execution_count": 2,
   "metadata": {},
   "outputs": [
    {
     "name": "stdout",
     "output_type": "stream",
     "text": [
      "[[1 2 3 4]]\n",
      " \n",
      "[[1]\n",
      " [2]\n",
      " [3]\n",
      " [4]]\n",
      " \n",
      "[[1 2 3 4]]\n"
     ]
    }
   ],
   "source": [
    "matrix_a = [[1,2,3,4]]\n",
    "\n",
    "# create a vector (numpy vector)\n",
    "nV = np.array(matrix_a)\n",
    "print(nV), print(' ')\n",
    "\n",
    "#transpose form\n",
    "print(nV.T), print(' ')\n",
    "\n",
    "# transpose form of the transposed\n",
    "nVT = nV.T\n",
    "print(nVT.T)"
   ]
  },
  {
   "cell_type": "code",
   "execution_count": 3,
   "metadata": {},
   "outputs": [
    {
     "name": "stdout",
     "output_type": "stream",
     "text": [
      "[[1 2 3 4]\n",
      " [5 6 7 8]]\n",
      " \n",
      "[[1 5]\n",
      " [2 6]\n",
      " [3 7]\n",
      " [4 8]]\n",
      " \n",
      "[[1 2 3 4]\n",
      " [5 6 7 8]]\n",
      " \n"
     ]
    },
    {
     "data": {
      "text/plain": [
       "(None, None)"
      ]
     },
     "execution_count": 3,
     "metadata": {},
     "output_type": "execute_result"
    }
   ],
   "source": [
    "matrix_a = [\n",
    "    [1,2,3,4],\n",
    "    [5,6,7,8]\n",
    "]\n",
    "\n",
    "# create a matrix (numpy matrix)\n",
    "nM = np.array(matrix_a)\n",
    "print(nM), print(' ')\n",
    "\n",
    "# transpose form\n",
    "print(nM.T), print(' ')\n",
    "\n",
    "# transpose form of the transposed\n",
    "nMT = nM.T\n",
    "print(nMT.T), print(' ')\n"
   ]
  },
  {
   "cell_type": "code",
   "execution_count": 4,
   "metadata": {},
   "outputs": [
    {
     "name": "stdout",
     "output_type": "stream",
     "text": [
      "type of tV <class 'numpy.ndarray'>\n",
      "type of tM <class 'numpy.ndarray'>\n"
     ]
    }
   ],
   "source": [
    "# exampine data types\n",
    "\n",
    "print(f'type of tV {type(nV)}')\n",
    "print(f'type of tM {type(nM)}')"
   ]
  },
  {
   "cell_type": "code",
   "execution_count": 5,
   "metadata": {},
   "outputs": [
    {
     "name": "stdout",
     "output_type": "stream",
     "text": [
      "[[ 2.45 -0.18 -1.78 -1.27 -0.42]\n",
      " [-5.1  -3.63 -2.04 -1.45 -0.66]\n",
      " [ 4.27 -2.98 -5.56 -3.78 -0.03]]\n",
      " \n",
      "[[ 1.99 -0.87  2.03 -0.28]\n",
      " [ 0.29 -1.8   0.34  0.63]\n",
      " [-3.69  1.16 -0.83  0.18]\n",
      " [ 0.35 -2.09  0.68  0.68]\n",
      " [ 0.01  0.97  4.21 -1.14]\n",
      " [-0.89  3.    2.82 -1.59]\n",
      " [-0.34 -0.26 -2.06  0.51]]\n",
      " \n"
     ]
    },
    {
     "data": {
      "text/plain": [
       "(None, None)"
      ]
     },
     "execution_count": 5,
     "metadata": {},
     "output_type": "execute_result"
    }
   ],
   "source": [
    "# create random matrixes\n",
    "A = np.random.randn(3, 4) # random Normal distribution\n",
    "B = np.random.randn(4, 5)\n",
    "C = np.random.randn(3, 7)\n",
    "\n",
    "# try some multiplications\n",
    "print(np.round(A@B, 2)), print(' ')\n",
    "print(np.round(C.T@A, 2)), print(' ')"
   ]
  },
  {
   "cell_type": "code",
   "execution_count": 6,
   "metadata": {},
   "outputs": [
    {
     "ename": "ValueError",
     "evalue": "matmul: Input operand 1 has a mismatch in its core dimension 0, with gufunc signature (n?,k),(k,m?)->(n?,m?) (size 3 is different from 5)",
     "output_type": "error",
     "traceback": [
      "\u001b[1;31m---------------------------------------------------------------------------\u001b[0m",
      "\u001b[1;31mValueError\u001b[0m                                Traceback (most recent call last)",
      "Cell \u001b[1;32mIn[6], line 2\u001b[0m\n\u001b[0;32m      1\u001b[0m \u001b[39m# print(np.round(A@C, 2)), print(' ')\u001b[39;00m\n\u001b[1;32m----> 2\u001b[0m \u001b[39mprint\u001b[39m(np\u001b[39m.\u001b[39mround(B\u001b[39m@C\u001b[39;49m, \u001b[39m2\u001b[39m)), \u001b[39mprint\u001b[39m(\u001b[39m'\u001b[39m\u001b[39m \u001b[39m\u001b[39m'\u001b[39m)\n",
      "\u001b[1;31mValueError\u001b[0m: matmul: Input operand 1 has a mismatch in its core dimension 0, with gufunc signature (n?,k),(k,m?)->(n?,m?) (size 3 is different from 5)"
     ]
    }
   ],
   "source": [
    "# print(np.round(A@C, 2)), print(' ')\n",
    "print(np.round(B@C, 2)), print(' ')"
   ]
  },
  {
   "cell_type": "code",
   "execution_count": null,
   "metadata": {},
   "outputs": [
    {
     "name": "stdout",
     "output_type": "stream",
     "text": [
      "Min, max: -3, 40\n",
      "Min, max indices : 3, 1\n"
     ]
    }
   ],
   "source": [
    "# argmin, argmax\n",
    "\n",
    "# create a vector\n",
    "v = [ 1,40, 2, -3]\n",
    "\n",
    "minval = np.min(v)\n",
    "maxval = np.max(v)\n",
    "\n",
    "print('Min, max: %g, %g' %(minval, maxval))\n",
    "\n",
    "minidx = np.argmin(v)\n",
    "maxidx = np.argmax(v)\n",
    "\n",
    "print('Min, max indices : %g, %g' %(minidx, maxidx))"
   ]
  },
  {
   "cell_type": "code",
   "execution_count": null,
   "metadata": {},
   "outputs": [
    {
     "name": "stdout",
     "output_type": "stream",
     "text": [
      "[[ 0  1 10]\n",
      " [20  8  5]]\n",
      " \n",
      "0\n",
      "[0 1 5]\n",
      "[0 5]\n"
     ]
    }
   ],
   "source": [
    "# repeat with matrix\n",
    "\n",
    "M = np.array([\n",
    "    [0 ,1, 10],\n",
    "    [20,8, 5]\n",
    "])\n",
    "\n",
    "print(M), print(' ')\n",
    "\n",
    "# there are various minima in this matrix\n",
    "minvals1 = np.min(M) # minimum for entire matrix\n",
    "minvals2 = np.min(M, axis = 0) # minimum of each column \n",
    "minvals3 = np.min(M, axis = 1) # minimum of each row\n",
    "\n",
    "print(minvals1)\n",
    "print(minvals2)\n",
    "print(minvals3)"
   ]
  },
  {
   "cell_type": "code",
   "execution_count": null,
   "metadata": {},
   "outputs": [
    {
     "name": "stdout",
     "output_type": "stream",
     "text": [
      "[[ 0  1 10]\n",
      " [20  8  5]]\n",
      " \n",
      "0\n",
      "[0 0 1]\n",
      "[0 2]\n"
     ]
    }
   ],
   "source": [
    "# get minimum values' indices\n",
    "minidx1 = np.argmin(M)\n",
    "minidx2 = np.argmin(M, axis = 0)\n",
    "minidx3 = np.argmin(M, axis = 1)\n",
    "\n",
    "print(M), print(' ')\n",
    "print(minidx1)\n",
    "print(minidx2)\n",
    "print(minidx3)"
   ]
  },
  {
   "attachments": {},
   "cell_type": "markdown",
   "metadata": {},
   "source": [
    "# random seed"
   ]
  },
  {
   "cell_type": "code",
   "execution_count": null,
   "metadata": {},
   "outputs": [
    {
     "name": "stdout",
     "output_type": "stream",
     "text": [
      "[ 0.27626589 -1.85462808  0.62390111]\n",
      "[1.14531129 1.03719047 1.88663893]\n",
      "[-0.11169829 -0.36210134  0.14867505]\n",
      "[-0.43778315  2.171257    1.15231025]\n",
      "[-1.81881234 -0.13804934  0.53983961]\n"
     ]
    }
   ],
   "source": [
    "# random seed mechanism (random State)\n",
    "\n",
    "randseed1 = np.random.RandomState(17)\n",
    "randseed2 = np.random.RandomState(2020)\n",
    "\n",
    "print(randseed1.randn(3))\n",
    "# print(randseed2.randn(3))\n",
    "# ----------------------------\n",
    "print(randseed1.randn(3))\n",
    "# print(randseed2.randn(3))\n",
    "# ----------------------------\n",
    "print(randseed1.randn(3))\n",
    "# print(randseed2.randn(3))\n",
    "# ----------------------------\n",
    "print(randseed1.randn(3))\n",
    "# print(randseed2.randn(3))\n",
    "# ----------------------------\n",
    "print(randseed1.randn(3))\n",
    "# print(randseed2.randn(3))\n",
    "\n",
    "# trying running this code multiple times\n",
    "\n",
    "# the more we call randseed1 from the starting INITIAL POINT \"random state\"\n",
    "# there will be more new arrays generated"
   ]
  },
  {
   "cell_type": "code",
   "execution_count": null,
   "metadata": {},
   "outputs": [
    {
     "name": "stdout",
     "output_type": "stream",
     "text": [
      "[-0.67570259  1.31351616  0.9033747 ]\n",
      "[ 1.15932373  0.6565008  -0.49106094]\n",
      "[-2.09812613 -0.25777416  1.02362483]\n",
      "[ 0.15943828 -0.25876601 -0.42051825]\n"
     ]
    }
   ],
   "source": [
    "print(randseed1.randn(3))\n",
    "print(randseed2.randn(3))\n",
    "# ----------------------\n",
    "print(randseed1.randn(3))\n",
    "print(randseed2.randn(3))\n",
    "\n",
    "# since we're not calling these randomseed from the starting point \"random state\", \n",
    "# there will always be new arrays"
   ]
  },
  {
   "cell_type": "code",
   "execution_count": null,
   "metadata": {},
   "outputs": [
    {
     "name": "stdout",
     "output_type": "stream",
     "text": [
      "[ 0.27626589 -1.85462808  0.62390111]\n",
      "[1.14531129 1.03719047 1.88663893]\n",
      "[-0.11169829 -0.36210134  0.14867505]\n"
     ]
    }
   ],
   "source": [
    "# using randomState is called LOCAL RANDOM, \n",
    "# the most used can be GLOBAL RANDOM SEED but is is hard it scope it\n",
    "np.random.seed(17)\n",
    "print(np.random.randn(3))\n",
    "print(np.random.randn(3))\n",
    "print(np.random.randn(3))\n",
    "\n",
    "# calling multiple times from the starting INITIAL POINT \"random.seed\"\n",
    "# the more we call, the more random arrays will be generated"
   ]
  },
  {
   "cell_type": "code",
   "execution_count": null,
   "metadata": {},
   "outputs": [
    {
     "name": "stdout",
     "output_type": "stream",
     "text": [
      "[ 0.15999085 -0.75522304  0.34989599]\n"
     ]
    }
   ],
   "source": [
    "print(np.random.randn(3))\n",
    "# as we call this not from the INITIAL POINT \"random.seed\"\n",
    "# there will always be new arrays are generated"
   ]
  },
  {
   "attachments": {},
   "cell_type": "markdown",
   "metadata": {},
   "source": [
    "# extracting some samples from a NUMPY array"
   ]
  },
  {
   "cell_type": "code",
   "execution_count": 2,
   "metadata": {},
   "outputs": [
    {
     "data": {
      "text/plain": [
       "array([ 3,  6,  6, 98, 53, 88,  0,  1,  9, 12])"
      ]
     },
     "execution_count": 2,
     "metadata": {},
     "output_type": "execute_result"
    }
   ],
   "source": [
    "testArr = np.array([3,6,6,98,53,88,00,1,9,12,1,47,13])\n",
    "testArr[range(10)]"
   ]
  },
  {
   "cell_type": "code",
   "execution_count": 3,
   "metadata": {},
   "outputs": [
    {
     "data": {
      "text/plain": [
       "array([3, 6, 6])"
      ]
     },
     "execution_count": 3,
     "metadata": {},
     "output_type": "execute_result"
    }
   ],
   "source": [
    "indicesArr = [0,1,2]\n",
    "testArr[indicesArr]"
   ]
  },
  {
   "cell_type": "code",
   "execution_count": 4,
   "metadata": {},
   "outputs": [
    {
     "name": "stdout",
     "output_type": "stream",
     "text": [
      "[1 4 3 7 6]\n",
      "[ 6 53 98  1  0]\n"
     ]
    }
   ],
   "source": [
    "# randomly chose items from an array\n",
    "\n",
    "chosen_items_indices = np.random.choice(\n",
    "    a=range(0, 10), # an array or a sequence for sample from\n",
    "    size=5, # number of samples to draw (to get out of)\n",
    "    replace= False, # if \"True\" the same element can be sample multiple times\n",
    ")\n",
    "\n",
    "print(chosen_items_indices)\n",
    "print(testArr[chosen_items_indices])"
   ]
  },
  {
   "cell_type": "code",
   "execution_count": 6,
   "metadata": {},
   "outputs": [
    {
     "data": {
      "text/plain": [
       "array([2, 2, 2, 2, 2])"
      ]
     },
     "execution_count": 6,
     "metadata": {},
     "output_type": "execute_result"
    }
   ],
   "source": [
    "# choosing items using 'True', 'False'\n",
    "\n",
    "# now let's revise a little\n",
    "indicesArr = np.array([1, 1, 1, 1, 1])\n",
    "testArr = np.array([1,2,3,4,5])\n",
    "testArr[indicesArr]"
   ]
  },
  {
   "cell_type": "code",
   "execution_count": 9,
   "metadata": {},
   "outputs": [
    {
     "data": {
      "text/plain": [
       "array([2, 4])"
      ]
     },
     "execution_count": 9,
     "metadata": {},
     "output_type": "execute_result"
    }
   ],
   "source": [
    "# choosing items using 'True', 'False'\n",
    "booleanArr = np.array([True, False, True, False, True])\n",
    "testArr = np.array([1,2,3,4,5])\n",
    "testArr[~booleanArr]"
   ]
  }
 ],
 "metadata": {
  "kernelspec": {
   "display_name": "mywork",
   "language": "python",
   "name": "python3"
  },
  "language_info": {
   "codemirror_mode": {
    "name": "ipython",
    "version": 3
   },
   "file_extension": ".py",
   "mimetype": "text/x-python",
   "name": "python",
   "nbconvert_exporter": "python",
   "pygments_lexer": "ipython3",
   "version": "3.10.11"
  },
  "orig_nbformat": 4,
  "vscode": {
   "interpreter": {
    "hash": "6391003d09935bdb03bcdc37a632cab92abcffb3a1dcbdeb9ce774a80334b563"
   }
  }
 },
 "nbformat": 4,
 "nbformat_minor": 2
}
